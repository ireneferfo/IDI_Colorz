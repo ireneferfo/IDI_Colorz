{
 "cells": [
  {
   "cell_type": "code",
   "execution_count": 12,
   "id": "e336f906-548b-49cd-973d-74775b514d7a",
   "metadata": {},
   "outputs": [],
   "source": [
    "def get_adjacent_pages(page_num, max_page_num):\n",
    "    #if page_num > 1 and page_num < max_page_num-2:\n",
    "    #pages = [page_num-2, page_num-1, page_num, page_num+1, page_num+2]\n",
    "    pages = [page for page in range(page_num-2, page_num+3) if page>0 and page<=max_page_num]\n",
    "    return pages"
   ]
  },
  {
   "cell_type": "code",
   "execution_count": 13,
   "id": "756ef0f2-621f-4cf3-8c0d-8aaf7b0211eb",
   "metadata": {},
   "outputs": [
    {
     "data": {
      "text/plain": [
       "[8, 9, 10, 11, 12]"
      ]
     },
     "execution_count": 13,
     "metadata": {},
     "output_type": "execute_result"
    }
   ],
   "source": [
    "get_adjacent_pages(10, 15)"
   ]
  },
  {
   "cell_type": "code",
   "execution_count": 14,
   "id": "c6f5abde-fe0c-462d-a238-5dd0b058cc23",
   "metadata": {},
   "outputs": [
    {
     "data": {
      "text/plain": [
       "[1, 2, 3]"
      ]
     },
     "execution_count": 14,
     "metadata": {},
     "output_type": "execute_result"
    }
   ],
   "source": [
    "get_adjacent_pages(1,15)"
   ]
  },
  {
   "cell_type": "code",
   "execution_count": 15,
   "id": "6391dc98-2f40-4339-bd95-2d1cc35cce0f",
   "metadata": {},
   "outputs": [
    {
     "data": {
      "text/plain": [
       "[13, 14, 15]"
      ]
     },
     "execution_count": 15,
     "metadata": {},
     "output_type": "execute_result"
    }
   ],
   "source": [
    "get_adjacent_pages(15,15)"
   ]
  },
  {
   "cell_type": "code",
   "execution_count": null,
   "id": "e10dda42-c820-4199-b777-94d21af24bb6",
   "metadata": {},
   "outputs": [],
   "source": []
  }
 ],
 "metadata": {
  "kernelspec": {
   "display_name": "Python 3.8.12 ('odmc')",
   "language": "python",
   "name": "python3812jvsc74a57bd017f29ec11b4a530ce861596ba74014a6f41c6fd29a093a3cdcbe502088fe4df3"
  },
  "language_info": {
   "codemirror_mode": {
    "name": "ipython",
    "version": 3
   },
   "file_extension": ".py",
   "mimetype": "text/x-python",
   "name": "python",
   "nbconvert_exporter": "python",
   "pygments_lexer": "ipython3",
   "version": "3.8.12"
  }
 },
 "nbformat": 4,
 "nbformat_minor": 5
}
